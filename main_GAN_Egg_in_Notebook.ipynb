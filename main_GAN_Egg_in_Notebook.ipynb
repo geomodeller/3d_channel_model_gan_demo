{
 "cells": [
  {
   "cell_type": "code",
   "execution_count": null,
   "metadata": {},
   "outputs": [],
   "source": [
    "%load_ext autoreload\n",
    "%autoreload 2\n",
    "# some basics\n",
    "import os\n",
    "os.environ['KMP_DUPLICATE_LIB_OK']='True'\n",
    "import torch\n",
    "import torch.utils.data as data\n",
    "import numpy as np\n",
    "import matplotlib.pyplot as plt\n",
    "\n",
    "# unconditonal GAN \n",
    "from gan import Generator, Discriminator\n",
    "from gan.utils import reset_random_seeds, train\n",
    "from gan.utils import EnsembleDataset\n",
    "from gan.utils import count_trainable_parameters\n",
    "\n",
    "# for visualization 3d model\n",
    "from visual_3d import visual_3d"
   ]
  },
  {
   "cell_type": "code",
   "execution_count": 9,
   "metadata": {},
   "outputs": [],
   "source": [
    "# set random seed\n",
    "reset_random_seeds(77777)"
   ]
  },
  {
   "cell_type": "code",
   "execution_count": 10,
   "metadata": {},
   "outputs": [],
   "source": [
    "# import training data - 100 channel facies model\n",
    "ensemble = np.load('Ensemble.npy')"
   ]
  },
  {
   "cell_type": "code",
   "execution_count": null,
   "metadata": {},
   "outputs": [],
   "source": [
    "plt.imshow(ensemble[0,0])"
   ]
  },
  {
   "cell_type": "code",
   "execution_count": null,
   "metadata": {},
   "outputs": [],
   "source": [
    "visual_3d(ensemble[0],save_html='test.html')"
   ]
  },
  {
   "cell_type": "code",
   "execution_count": null,
   "metadata": {},
   "outputs": [],
   "source": [
    "ensemble.shape"
   ]
  },
  {
   "cell_type": "code",
   "execution_count": 18,
   "metadata": {},
   "outputs": [],
   "source": [
    "# Preprocess data\n",
    "ensemble_pad = np.zeros((100, 8, 64, 64))\n",
    "for i in range(100):\n",
    "    ensemble_pad[i] = np.pad(ensemble[i], ((0, 1), (2, 2), (2, 2)), 'reflect')\n"
   ]
  },
  {
   "cell_type": "code",
   "execution_count": null,
   "metadata": {},
   "outputs": [],
   "source": [
    "ensemble_pad.shape"
   ]
  },
  {
   "cell_type": "code",
   "execution_count": null,
   "metadata": {},
   "outputs": [],
   "source": [
    "plt.subplot(1,2,1)\n",
    "plt.imshow(ensemble[0,0])\n",
    "plt.subplot(1,2,2)\n",
    "plt.imshow(ensemble_pad[0,0])"
   ]
  },
  {
   "cell_type": "code",
   "execution_count": null,
   "metadata": {},
   "outputs": [],
   "source": [
    "# hyper-parameters\n",
    "BUFFER_SIZE = 6000000\n",
    "BATCH_SIZE = 15\n",
    "LATENT_DIM = 100\n",
    "EPOCHS = 2501\n",
    "FIRST_CHANNEL_GEN = 32*3\n",
    "FIRST_CHANNEL_DIS = 32*3\n",
    "\n",
    "# rescale training data from -1 to 1\n",
    "ensemble_log_perm_pad = np.log(ensemble_pad)\n",
    "ensemble_log_perm_pad[ensemble_log_perm_pad<4] = 4\n",
    "ensemble_log_perm_min, ensemble_log_perm_max = ensemble_log_perm_pad.min(), ensemble_log_perm_pad.max()\n",
    "ensemble_log_perm_sacled = (ensemble_log_perm_pad - ensemble_log_perm_min)/(ensemble_log_perm_max- ensemble_log_perm_min)*2 -1\n",
    "train_dataset = EnsembleDataset(ensemble_log_perm_sacled)\n",
    "train_dataloader = data.DataLoader(train_dataset, batch_size=BATCH_SIZE, shuffle=True)\n",
    "\n",
    "# Instantiate models\n",
    "device = torch.device(\"cuda\" if torch.cuda.is_available() else \"cpu\")\n",
    "generator = Generator(latent_dim=LATENT_DIM, first_channel = FIRST_CHANNEL_GEN)\n",
    "discriminator = Discriminator(first_channel = FIRST_CHANNEL_DIS)\n",
    "# print(count_trainable_parameters(generator))\n",
    "# print(count_trainable_parameters(discriminator))\n",
    "\n",
    "# Train models\n",
    "train(generator, \n",
    "      discriminator, \n",
    "      train_dataloader, \n",
    "      EPOCHS, \n",
    "      LATENT_DIM, \n",
    "      device,\n",
    "      save_every_epoch=100,\n",
    "      test_every_epoch=50)"
   ]
  },
  {
   "cell_type": "code",
   "execution_count": null,
   "metadata": {},
   "outputs": [],
   "source": [
    "num_of_model = 9\n",
    "generator = Generator(latent_dim=LATENT_DIM, first_channel = FIRST_CHANNEL_GEN).to(device)\n",
    "generator.load_state_dict(torch.load('saved_gan_models/generator_weights_epoch_02500.pth'))\n",
    "LATENT_DIM= 100\n",
    "noise = torch.randn(num_of_model, LATENT_DIM, device=device)\n",
    "generated_models = generator(noise).detach().cpu().numpy().squeeze()\n",
    "\n",
    "plt.figure(figsize = (10,10))\n",
    "for i in range(9):\n",
    "    plt.subplot(3,3,i+1)\n",
    "    plt.imshow(generated_models[i][0])\n"
   ]
  }
 ],
 "metadata": {
  "kernelspec": {
   "display_name": "base",
   "language": "python",
   "name": "python3"
  },
  "language_info": {
   "codemirror_mode": {
    "name": "ipython",
    "version": 3
   },
   "file_extension": ".py",
   "mimetype": "text/x-python",
   "name": "python",
   "nbconvert_exporter": "python",
   "pygments_lexer": "ipython3",
   "version": "3.12.7"
  }
 },
 "nbformat": 4,
 "nbformat_minor": 2
}
